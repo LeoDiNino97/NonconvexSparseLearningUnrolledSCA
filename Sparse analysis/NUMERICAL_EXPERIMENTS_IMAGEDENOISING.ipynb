{
 "cells": [
  {
   "cell_type": "code",
   "execution_count": 57,
   "metadata": {},
   "outputs": [],
   "source": [
    "import numpy as np\n",
    "import cvxpy as cp\n",
    "import scipy.io as sio\n",
    "\n",
    "from tqdm import tqdm\n",
    "from matplotlib import pyplot as plt\n",
    "from matplotlib.ticker import MaxNLocator\n",
    "\n",
    "import pickle\n",
    "\n",
    "import torch\n",
    "import torch.nn.functional as F\n",
    "import torch.nn as nn\n",
    "import torch.utils.data as Data\n",
    "import matplotlib.pyplot as plt\n",
    "from sklearn.metrics import mean_squared_error\n",
    "\n",
    "import warnings\n",
    "warnings.filterwarnings(\"ignore\")\n",
    "\n",
    "import os\n",
    "import random\n",
    "from PIL import Image\n",
    "import torch\n",
    "from torch.utils.data import Dataset, DataLoader\n",
    "import torchvision.transforms as transforms"
   ]
  },
  {
   "cell_type": "code",
   "execution_count": 58,
   "metadata": {},
   "outputs": [
    {
     "data": {
      "text/plain": [
       "True"
      ]
     },
     "execution_count": 58,
     "metadata": {},
     "output_type": "execute_result"
    }
   ],
   "source": [
    "torch.cuda.is_available()"
   ]
  },
  {
   "cell_type": "code",
   "execution_count": 59,
   "metadata": {},
   "outputs": [],
   "source": [
    "def haar_wavelet_matrix(n):\n",
    "\n",
    "    if np.log2(n) % 1 > 0:\n",
    "        raise ValueError(\"n must be a power of 2\")\n",
    "    \n",
    "    # Initialize the Haar basis matrix\n",
    "    haar_matrix = np.zeros((n, n))\n",
    "    \n",
    "    # First row: the scaling function (constant average)\n",
    "    haar_matrix[0, :] = np.ones(n) / np.sqrt(n)\n",
    "    \n",
    "    k = 1  # Keeps track of the row index\n",
    "    for level in range(int(np.log2(n))):\n",
    "        step = 2**level\n",
    "        for j in range(step):\n",
    "            # High-pass (difference) filter at this scale\n",
    "            for i in range(0, n, 2*step):\n",
    "                haar_matrix[k, i:i+step] = 1.0 / np.sqrt(step)\n",
    "                haar_matrix[k, i+step:i+2*step] = -1.0 / np.sqrt(step)\n",
    "            k += 1\n",
    "    \n",
    "    return haar_matrix\n",
    "\n",
    "# Generate the Haar basis matrix for 256 components\n",
    "n = 256\n",
    "haar_matrix = haar_wavelet_matrix(n)"
   ]
  },
  {
   "cell_type": "code",
   "execution_count": 60,
   "metadata": {},
   "outputs": [],
   "source": [
    "haar_matrix = np.apply_along_axis(lambda x: x / np.linalg.norm(x), axis = 1, arr = haar_matrix)\n",
    "haar_matrix = haar_matrix.T"
   ]
  },
  {
   "cell_type": "code",
   "execution_count": 61,
   "metadata": {},
   "outputs": [],
   "source": [
    "D = np.hstack([haar_matrix, np.eye(256)])\n",
    "D = torch.from_numpy(D.astype(np.float32))"
   ]
  },
  {
   "cell_type": "markdown",
   "metadata": {},
   "source": [
    "# Image denoising via sparse representation "
   ]
  },
  {
   "cell_type": "code",
   "execution_count": 62,
   "metadata": {},
   "outputs": [],
   "source": [
    "from models.ALISTA import ALISTA\n",
    "from models.ALDCISTA import ALDC_ISTA\n",
    "\n",
    "from utils.train import layerwise_train_U, layerwise_train_DC_U"
   ]
  },
  {
   "cell_type": "code",
   "execution_count": 63,
   "metadata": {},
   "outputs": [],
   "source": [
    "class ImagePatchDataset(Dataset):\n",
    "    def __init__(self, folder_path, patch_size=(16, 16), total_patches=None, transform=None, SNR=None):\n",
    "        self.folder_path = folder_path\n",
    "        self.patch_size = patch_size\n",
    "        self.transform = transform\n",
    "        self.image_files = [os.path.join(folder_path, file) for file in os.listdir(folder_path) if file.endswith(('png', 'jpg', 'jpeg'))]\n",
    "        self.num_images = len(self.image_files)\n",
    "        self.patches_per_image = total_patches // self.num_images if total_patches else None\n",
    "        self.SNR = SNR\n",
    "        \n",
    "    def __len__(self):\n",
    "        if self.patches_per_image:\n",
    "            return self.patches_per_image * self.num_images\n",
    "        return sum((image_width // self.patch_size[0]) * (image_height // self.patch_size[1]) \n",
    "                   for image_path in self.image_files \n",
    "                   for image_width, image_height in [Image.open(image_path).size])\n",
    "\n",
    "    def __getitem__(self, idx):\n",
    "        image_idx = idx % self.num_images  \n",
    "        image_path = self.image_files[image_idx]\n",
    "        image = Image.open(image_path).convert('L')  \n",
    "\n",
    "        # Calculate the grid of patches for the image\n",
    "        image_width, image_height = image.size\n",
    "        grid_cols = image_width // self.patch_size[0]\n",
    "        grid_rows = image_height // self.patch_size[1]\n",
    "\n",
    "        # Compute patch coordinates from idx\n",
    "        patch_idx = idx // self.num_images  \n",
    "        row = patch_idx // grid_cols\n",
    "        col = patch_idx % grid_cols\n",
    "\n",
    "        x = col * self.patch_size[0]\n",
    "        y = row * self.patch_size[1]\n",
    "\n",
    "        patch = image.crop((x, y, x + self.patch_size[0], y + self.patch_size[1]))\n",
    "\n",
    "        # Convert patch to numpy array for noise addition\n",
    "        patch_np = np.array(patch, dtype=np.float32) / 255 \n",
    "\n",
    "        # Add Gaussian noise\n",
    "        if self.SNR is not None:\n",
    "            patch_np = self.add_gaussian_noise(patch_np)\n",
    "\n",
    "        if self.transform:\n",
    "            patch_np = self.transform(patch_np)\n",
    "\n",
    "        return patch_np\n",
    "\n",
    "    def add_gaussian_noise(self, patch):\n",
    "        # Signal and noise calculation\n",
    "        signal_power = np.mean(patch ** 2)\n",
    "        noise_power = signal_power / (10 ** (self.SNR / 10))\n",
    "        noise = np.random.normal(0, np.sqrt(noise_power), patch.shape)\n",
    "        noisy_patch = patch + noise\n",
    "        return noisy_patch"
   ]
  },
  {
   "cell_type": "code",
   "execution_count": 64,
   "metadata": {},
   "outputs": [],
   "source": [
    "# Define transformations\n",
    "transform = transforms.Compose([\n",
    "    transforms.ToTensor(),  \n",
    "    transforms.Lambda(lambda x: x.view(-1).to(torch.float32))  \n",
    "])\n",
    "\n",
    "# Parameters\n",
    "train_folder_path = r\"C:\\Users\\Leonardo\\Documents\\GitHub\\ModelBasedDL4SCA\\Sparse analysis\\real_data\\images\\train\"\n",
    "val_folder_path = r\"C:\\Users\\Leonardo\\Documents\\GitHub\\ModelBasedDL4SCA\\Sparse analysis\\real_data\\images\\val\"\n",
    "test_folder_path = r\"C:\\Users\\Leonardo\\Documents\\GitHub\\ModelBasedDL4SCA\\Sparse analysis\\real_data\\images\\test\"\n",
    "\n",
    "patch_size = (16, 16)\n",
    "total_patches = 10000  # Control the total number of patches in the dataset\n",
    "batch_size = 50\n",
    "shuffle = False\n",
    "\n",
    "# Create dataset and dataloader\n",
    "train_dataset = ImagePatchDataset(train_folder_path, patch_size=patch_size, total_patches=10000, transform=transform, SNR = None)\n",
    "val_dataset = ImagePatchDataset(val_folder_path, patch_size=patch_size, total_patches=1000, transform=transform, SNR = None)\n",
    "\n",
    "train_dataloader = DataLoader(train_dataset, batch_size=batch_size, shuffle=shuffle)\n",
    "val_dataloader = DataLoader(val_dataset, batch_size=batch_size, shuffle=shuffle)\n"
   ]
  },
  {
   "cell_type": "code",
   "execution_count": 65,
   "metadata": {},
   "outputs": [],
   "source": [
    "test_dataset = ImagePatchDataset(test_folder_path, patch_size=patch_size, total_patches=1000, transform=transform, SNR = None)\n",
    "test_dataloader = DataLoader(test_dataset, batch_size=batch_size, shuffle=shuffle)"
   ]
  },
  {
   "cell_type": "code",
   "execution_count": 66,
   "metadata": {},
   "outputs": [],
   "source": [
    "all_train_patches = []\n",
    "for patches in train_dataloader:\n",
    "    all_train_patches.append(patches.numpy())\n",
    "\n",
    "all_train_patches = np.concatenate(all_train_patches, axis=0)\n",
    "\n",
    "all_val_patches = []\n",
    "for patches in val_dataloader:\n",
    "    all_val_patches.append(patches.numpy())\n",
    "\n",
    "all_val_patches = np.concatenate(all_val_patches, axis=0)\n",
    "\n",
    "all_test_patches = []\n",
    "for patches in test_dataloader:\n",
    "    all_test_patches.append(patches.numpy())\n",
    "\n",
    "all_test_patches = np.concatenate(all_test_patches, axis=0)"
   ]
  },
  {
   "cell_type": "markdown",
   "metadata": {},
   "source": [
    "___________"
   ]
  },
  {
   "cell_type": "markdown",
   "metadata": {},
   "source": [
    "___________"
   ]
  },
  {
   "cell_type": "markdown",
   "metadata": {},
   "source": [
    "# Unsupervised version"
   ]
  },
  {
   "cell_type": "code",
   "execution_count": 23,
   "metadata": {},
   "outputs": [
    {
     "data": {
      "text/plain": [
       "(10000, 256)"
      ]
     },
     "execution_count": 23,
     "metadata": {},
     "output_type": "execute_result"
    }
   ],
   "source": [
    "all_train_patches.shape"
   ]
  },
  {
   "cell_type": "code",
   "execution_count": 24,
   "metadata": {},
   "outputs": [],
   "source": [
    "class SparseCodingDataset(Dataset):\n",
    "    def __init__(self, patches, snr_db):\n",
    "        self.patches = torch.tensor(patches, dtype=torch.float32)  \n",
    "        self.snr_db = snr_db\n",
    "\n",
    "    def __len__(self):\n",
    "        return len(self.patches)\n",
    "\n",
    "    def __getitem__(self, idx):\n",
    "        # Get the clean patch\n",
    "        clean_patch = self.patches[idx]\n",
    "\n",
    "        # Generate noise\n",
    "        noise = self._generate_noise(clean_patch)\n",
    "\n",
    "        # Create the noisy patch\n",
    "        noisy_patch = clean_patch + noise\n",
    "\n",
    "        return clean_patch, noisy_patch\n",
    "\n",
    "    def _generate_noise(self, clean_patch):\n",
    "        # Calculate the signal power\n",
    "        signal_power = clean_patch.norm() ** 2 / clean_patch.shape[0]\n",
    "\n",
    "        # Calculate the noise power using the desired SNR\n",
    "        snr_linear = 10 ** (self.snr_db / 10)\n",
    "        noise_power = signal_power / snr_linear\n",
    "\n",
    "        # Generate Gaussian noise\n",
    "        noise = torch.randn(clean_patch.shape) * noise_power.sqrt()\n",
    "\n",
    "        return noise"
   ]
  },
  {
   "cell_type": "code",
   "execution_count": 28,
   "metadata": {},
   "outputs": [],
   "source": [
    "train_dataset = SparseCodingDataset(all_train_patches, 20)\n",
    "train_dataloader = DataLoader(train_dataset, batch_size=256, shuffle=True)"
   ]
  },
  {
   "cell_type": "code",
   "execution_count": 29,
   "metadata": {},
   "outputs": [],
   "source": [
    "val_dataset = SparseCodingDataset(all_val_patches, 20)\n",
    "val_dataloader = DataLoader(val_dataset, batch_size=256, shuffle=True)"
   ]
  },
  {
   "cell_type": "code",
   "execution_count": null,
   "metadata": {},
   "outputs": [],
   "source": [
    "model_1 = ALISTA(torch.clone(D), 1, T = 16)\n",
    "layerwise_train_U(model_1, train_dataloader, val_dataloader, 'ALISTA', lr = 3e-3, ft_lr = 3e-7, verbose=True)"
   ]
  },
  {
   "cell_type": "code",
   "execution_count": null,
   "metadata": {},
   "outputs": [],
   "source": [
    "model_2 = ALDC_ISTA(torch.clone(D), 'EXP', 1, T = 16, W = torch.clone(model_1.W).to('cuda:0'))\n",
    "layerwise_train_DC_U(model_2, train_dataloader, val_dataloader, 'AL-DC-ISTA', 'EXP', lr = 3e-3, ft_lr = 3e-7, verbose=True)"
   ]
  },
  {
   "cell_type": "code",
   "execution_count": null,
   "metadata": {},
   "outputs": [],
   "source": [
    "model_3 = ALDC_ISTA(torch.clone(D), 'PNEG', 1, T = 16, W = torch.clone(model_1.W).to('cuda:0'))\n",
    "layerwise_train_DC_U(model_3, train_dataloader, val_dataloader, 'AL-DC-ISTA', 'PNEG', lr = 3e-3, ft_lr = 3e-7, verbose=True)"
   ]
  },
  {
   "cell_type": "code",
   "execution_count": null,
   "metadata": {},
   "outputs": [],
   "source": [
    "model_4 = ALDC_ISTA(torch.clone(D), 'SCAD', 1, T = 16, W = torch.clone(model_1.W).to('cuda:0'))\n",
    "layerwise_train_DC_U(model_4, train_dataloader, val_dataloader, 'AL-DC-ISTA', 'SCAD', lr = 3e-4, ft_lr = 3e-7, verbose=True)"
   ]
  },
  {
   "cell_type": "code",
   "execution_count": 21,
   "metadata": {},
   "outputs": [],
   "source": [
    "torch.save(model_1.state_dict(), \"model_1_REAL_weights.pth\")\n",
    "torch.save(model_2.state_dict(), \"model_2_REAL_weights.pth\")\n",
    "torch.save(model_3.state_dict(), \"model_3_REAL_weights.pth\")\n",
    "torch.save(model_4.state_dict(), \"model_4_REAL_weights.pth\")"
   ]
  },
  {
   "cell_type": "code",
   "execution_count": 31,
   "metadata": {},
   "outputs": [],
   "source": [
    "model_4 = ALDC_ISTA(torch.clone(D), 'SCAD', 1, T = 16, W = torch.clone(model_1.W).to('cuda:0'))\n",
    "model_3 = ALDC_ISTA(torch.clone(D), 'PNEG', 1, T = 16, W = torch.clone(model_1.W).to('cuda:0'))\n",
    "model_2 = ALDC_ISTA(torch.clone(D), 'EXP', 1, T = 16, W = torch.clone(model_1.W).to('cuda:0'))"
   ]
  },
  {
   "cell_type": "code",
   "execution_count": 32,
   "metadata": {},
   "outputs": [
    {
     "data": {
      "text/plain": [
       "<All keys matched successfully>"
      ]
     },
     "execution_count": 32,
     "metadata": {},
     "output_type": "execute_result"
    }
   ],
   "source": [
    "model_1.load_state_dict(torch.load('model_1_REAL_weights.pth'))\n",
    "model_2.load_state_dict(torch.load('model_2_REAL_weights.pth'))\n",
    "model_3.load_state_dict(torch.load('model_3_REAL_weights.pth'))\n",
    "model_4.load_state_dict(torch.load('model_4_REAL_weights.pth'))"
   ]
  },
  {
   "cell_type": "code",
   "execution_count": 72,
   "metadata": {},
   "outputs": [],
   "source": [
    "def reconstruction_psnr(model, D, test_set, max_pixel_value=1):\n",
    "    # Reset the losses accumulator\n",
    "    total_loss = 0\n",
    "\n",
    "    # Iterate over test_set\n",
    "    with torch.no_grad():\n",
    "        for (Y, Y_noisy) in test_set:\n",
    "            Y_noisy = Y_noisy.to(model.device)\n",
    "            Y = Y.to(model.device)\n",
    "\n",
    "            # Forward pass to get the reconstructed signal\n",
    "            S_hat = model.forward(y=Y_noisy, its=None, S=None)\n",
    "\n",
    "            # Calculate reconstruction loss (MSE)\n",
    "            mse = F.mse_loss(Y.T, D.to(model.device) @ S_hat.T, reduction=\"sum\") / Y.numel()\n",
    "            total_loss += mse.item()  # Accumulate MSE\n",
    "\n",
    "    # Calculate the average MSE\n",
    "    avg_mse = total_loss / len(test_set)\n",
    "\n",
    "    # Avoid division by zero\n",
    "    if avg_mse == 0:\n",
    "        return float('inf')  # If MSE is 0, PSNR is infinite (perfect reconstruction)\n",
    "\n",
    "    # Calculate PSNR in dB\n",
    "    psnr = 10 * torch.log10(torch.tensor(max_pixel_value**2).to(model.device) / avg_mse)\n",
    "\n",
    "    return psnr.item()  # Return as a Python float"
   ]
  },
  {
   "cell_type": "code",
   "execution_count": 73,
   "metadata": {},
   "outputs": [
    {
     "name": "stderr",
     "output_type": "stream",
     "text": [
      "100%|██████████| 9/9 [00:06<00:00,  1.47it/s]\n"
     ]
    }
   ],
   "source": [
    "SNRs = np.arange(14,31,2)\n",
    "\n",
    "reconstruction_errors = {\n",
    "    SNR : {\n",
    "        'ALISTA':0,\n",
    "        'AL-DC-ISTA-EXP':0,\n",
    "        'AL-DC-ISTA-PNEG':0,\n",
    "        'AL-DC-ISTA-SCAD':0\n",
    "} for SNR in SNRs}\n",
    "\n",
    "for SNR in tqdm(SNRs):\n",
    "        \n",
    "    test_dataset = SparseCodingDataset(all_test_patches, SNR)\n",
    "    test_dataloader = DataLoader(test_dataset, batch_size=256, shuffle=True)\n",
    "\n",
    "    reconstruction_errors[SNR]['ALISTA'] = reconstruction_psnr(model_1, D, test_dataloader)\n",
    "    reconstruction_errors[SNR]['AL-DC-ISTA-EXP'] = reconstruction_psnr(model_2, D, test_dataloader)\n",
    "    reconstruction_errors[SNR]['AL-DC-ISTA-PNEG'] = reconstruction_psnr(model_3, D, test_dataloader)\n",
    "    reconstruction_errors[SNR]['AL-DC-ISTA-SCAD'] = reconstruction_psnr(model_4, D, test_dataloader)"
   ]
  },
  {
   "cell_type": "code",
   "execution_count": 77,
   "metadata": {},
   "outputs": [
    {
     "data": {
      "text/plain": [
       "<matplotlib.legend.Legend at 0x18bb7443eb0>"
      ]
     },
     "execution_count": 77,
     "metadata": {},
     "output_type": "execute_result"
    },
    {
     "data": {
      "image/png": "[encoded data removed]",
      "text/plain": [
       "<Figure size 640x480 with 1 Axes>"
      ]
     },
     "metadata": {},
     "output_type": "display_data"
    }
   ],
   "source": [
    "models = [\n",
    "    'ALISTA',\n",
    "    'AL-DC-ISTA-EXP',\n",
    "    'AL-DC-ISTA-PNEG',\n",
    "    'AL-DC-ISTA-SCAD'\n",
    "]\n",
    "\n",
    "colors = [\n",
    "    'darkred',\n",
    "    'yellowgreen',\n",
    "    'lime',\n",
    "    'darkgreen'\n",
    "]\n",
    "\n",
    "markers = [\n",
    "    'o',\n",
    "    '^',\n",
    "    '>',\n",
    "    '<'\n",
    "]\n",
    "\n",
    "for i, model_ in enumerate(models):\n",
    "    plt.plot(SNRs, [reconstruction_errors[SNR][model_] for SNR in SNRs], label = model_, color = colors[i], marker = markers[i])\n",
    "\n",
    "plt.xticks(SNRs)\n",
    "plt.axvline(x=20, color='black', label='Training noise', linestyle='--')\n",
    "\n",
    "plt.ylabel('PSNR')\n",
    "plt.xlabel('SNR')\n",
    "plt.grid(True, which=\"both\", ls=\"--\", linewidth=0.5)\n",
    "plt.legend()"
   ]
  }
 ],
 "metadata": {
  "kernelspec": {
   "display_name": "CUDATORCH",
   "language": "python",
   "name": "python3"
  },
  "language_info": {
   "codemirror_mode": {
    "name": "ipython",
    "version": 3
   },
   "file_extension": ".py",
   "mimetype": "text/x-python",
   "name": "python",
   "nbconvert_exporter": "python",
   "pygments_lexer": "ipython3",
   "version": "3.10.13"
  }
 },
 "nbformat": 4,
 "nbformat_minor": 2
}
