{
 "cells": [
  {
   "cell_type": "code",
   "execution_count": 1,
   "metadata": {},
   "outputs": [],
   "source": [
    "import numpy as np\n",
    "\n",
    "from tqdm import tqdm\n",
    "from matplotlib import pyplot as plt\n",
    "\n",
    "import torch, numpy as np\n",
    "import torch.nn.functional as F\n",
    "import torch.nn as nn\n",
    "import torch.utils.data as Data\n",
    "import matplotlib.pyplot as plt\n",
    "import copy\n",
    "\n",
    "from sklearn.datasets import load_boston\n",
    "from sklearn.preprocessing import StandardScaler\n",
    "from sklearn.model_selection import train_test_split\n",
    "\n",
    "\n",
    "SEED = 4200\n",
    "torch.manual_seed(SEED)\n",
    "np.random.seed(SEED)\n",
    "\n",
    "torch.set_default_dtype(torch.float32)\n",
    "torch.autograd.set_detect_anomaly(True)\n",
    "torch.set_grad_enabled(True)  # Context-manager \n",
    "\n",
    "\n",
    "import warnings\n",
    "warnings.filterwarnings(\"ignore\")"
   ]
  },
  {
   "cell_type": "markdown",
   "metadata": {},
   "source": [
    "## Toy case models and datasets"
   ]
  },
  {
   "cell_type": "code",
   "execution_count": 2,
   "metadata": {},
   "outputs": [],
   "source": [
    "boston = load_boston()\n",
    "X = boston.data\n",
    "y = boston.target\n",
    "\n",
    "# Standardize the features\n",
    "scaler = StandardScaler()\n",
    "X = scaler.fit_transform(X)\n",
    "\n",
    "# Split the dataset into training and testing sets\n",
    "X_train, X_test, y_train, y_test = train_test_split(X, y, test_size=0.2, random_state=42)\n",
    "\n",
    "# Convert data to PyTorch tensors\n",
    "X_train_tensor = torch.tensor(X_train, dtype=torch.float32)\n",
    "y_train_tensor = torch.tensor(y_train, dtype=torch.float32).view(-1, 1)  \n",
    "X_test_tensor = torch.tensor(X_test, dtype=torch.float32)\n",
    "y_test_tensor = torch.tensor(y_test, dtype=torch.float32).view(-1, 1)  "
   ]
  },
  {
   "cell_type": "code",
   "execution_count": 3,
   "metadata": {},
   "outputs": [],
   "source": [
    "model = nn.Sequential(\n",
    "    nn.Linear(13, 30),\n",
    "    nn.ReLU(),\n",
    "    nn.Linear(30, 1)\n",
    ")\n",
    "\n",
    "optimizer = torch.optim.Adam(params=model.parameters(), lr=1e-1, weight_decay = 5e-4)\n",
    "criterion = nn.MSELoss()"
   ]
  },
  {
   "cell_type": "markdown",
   "metadata": {},
   "source": [
    "### Simple training loop "
   ]
  },
  {
   "cell_type": "code",
   "execution_count": 4,
   "metadata": {},
   "outputs": [
    {
     "name": "stdout",
     "output_type": "stream",
     "text": [
      "Epoch [10/100], Loss: 108.9392\n",
      "Epoch [20/100], Loss: 43.4876\n",
      "Epoch [30/100], Loss: 24.4725\n",
      "Epoch [40/100], Loss: 18.0850\n",
      "Epoch [50/100], Loss: 14.4142\n",
      "Epoch [60/100], Loss: 12.0501\n",
      "Epoch [70/100], Loss: 10.4739\n",
      "Epoch [80/100], Loss: 9.5392\n",
      "Epoch [90/100], Loss: 8.7902\n",
      "Epoch [100/100], Loss: 8.1955\n",
      "Test Loss: 12.1529\n"
     ]
    }
   ],
   "source": [
    "train_losses = []\n",
    "\n",
    "for epoch in range(100):\n",
    "    # Forward pass\n",
    "    \n",
    "    outputs = model(X_train_tensor)\n",
    "    loss = criterion(outputs, y_train_tensor)\n",
    "    \n",
    "    # Backward pass and optimization\n",
    "    optimizer.zero_grad()\n",
    "    loss.backward()\n",
    "    optimizer.step()\n",
    "    \n",
    "    # Store loss value\n",
    "    train_losses.append(loss.item())\n",
    "    \n",
    "    # Print progress\n",
    "    if (epoch+1) % 10 == 0:\n",
    "        print(f'Epoch [{epoch+1}/{100}], Loss: {loss.item():.4f}')\n",
    "\n",
    "# Evaluate the model on the test set\n",
    "with torch.no_grad():\n",
    "    test_outputs = model(X_test_tensor)\n",
    "    test_loss = criterion(test_outputs, y_test_tensor)\n",
    "    print(f'Test Loss: {test_loss.item():.4f}')"
   ]
  },
  {
   "cell_type": "code",
   "execution_count": 5,
   "metadata": {},
   "outputs": [
    {
     "data": {
      "text/plain": [
       "[<matplotlib.lines.Line2D at 0x2859f89b7f0>]"
      ]
     },
     "execution_count": 5,
     "metadata": {},
     "output_type": "execute_result"
    },
    {
     "data": {
      "image/png": "[encoded data removed]",
      "text/plain": [
       "<Figure size 640x480 with 1 Axes>"
      ]
     },
     "metadata": {},
     "output_type": "display_data"
    }
   ],
   "source": [
    "plt.loglog(train_losses)"
   ]
  },
  {
   "cell_type": "markdown",
   "metadata": {},
   "source": [
    "### SCALTRA implementation - On the fly metalearning"
   ]
  },
  {
   "cell_type": "code",
   "execution_count": 57,
   "metadata": {},
   "outputs": [],
   "source": [
    "class SCALTRA(nn.Module):\n",
    "    def __init__(self, model, \n",
    "                 epochs, \n",
    "                 loss_criterion,\n",
    "                 beta = 0.5, \n",
    "                 tau = 1e2, \n",
    "                 gamma = 0.9):\n",
    "        \n",
    "        super().__init__()\n",
    "\n",
    "        self.gamma = gamma\n",
    "        self.beta = beta\n",
    "\n",
    "        self.B = []\n",
    "        self.tau = []\n",
    "\n",
    "        self.momentum = []\n",
    "\n",
    "        for _, p in model.named_parameters():\n",
    "            self.B.append(nn.Parameter(torch.randn(p.shape), requires_grad = True))\n",
    "            self.tau.append(nn.Parameter(torch.ones(1)*tau, requires_grad = True))\n",
    "            self.momentum.append(torch.zeros_like(p))\n",
    "\n",
    "        self.params = nn.ParameterList(self.B + self.tau)\n",
    "\n",
    "        # Some more initialization\n",
    "\n",
    "        self.loss_criterion = loss_criterion\n",
    "        self.meta_optimizer = torch.optim.Adagrad(params=self.parameters(), lr=1)\n",
    "        self.epochs = epochs\n",
    "        self.learning_rate = 1\n",
    "\n",
    "    def forward(self, model, X, y):\n",
    "        train_losses = []\n",
    "\n",
    "        for _ in range(self.epochs):\n",
    "\n",
    "            #new_params = []\n",
    "            B_part_grad = []\n",
    "            tau_part_grad = []\n",
    "\n",
    "            for i, (_, p) in enumerate(model.named_parameters()):\n",
    "\n",
    "                # Local optimization step\n",
    "                if len(p.shape) == 1:\n",
    "                    H = torch.linalg.inv(torch.outer(self.B[i],self.B[i]) + self.tau[i]*torch.eye(self.B[i].shape[0])) @ self.momentum[i]\n",
    "                    #new_params.append(nn.Parameter(p - 1/(self.B[i]**2 + self.tau*torch.ones(self.B[i].shape[0])) * self.momentum[i], requires_grad = True))\n",
    "                    B_part_grad.append(-self.learning_rate*self.gamma*(torch.autograd.grad(H,\n",
    "                                                                                           self.B[i],\n",
    "                                                                                           torch.ones_like(H),\n",
    "                                                                                           retain_graph=True)[0]))\n",
    "                    \n",
    "                    tau_part_grad.append(-self.learning_rate*self.gamma*(torch.autograd.grad(H,\n",
    "                                                                                             self.tau[i],\n",
    "                                                                                             torch.ones_like(H),\n",
    "                                                                                             retain_graph=True)[0]))\n",
    "\n",
    "                else:\n",
    "                    H = torch.linalg.inv(torch.matmul(self.B[i],torch.transpose(self.B[i],0,1)) + self.tau[i]*torch.eye(self.B[i].shape[0])) @ self.momentum[i]\n",
    "\n",
    "                    #H = torch.linalg.inv(torch.matmul(self.params[i],torch.transpose(self.params[i],0,1)) + self.tau*torch.eye(self.params[i].shape[0])) @ self.momentum[i]\n",
    "                    #new_params.append(nn.Parameter(p - torch.linalg.inv(torch.outer(self.B[i],self.B[i]) + self.tau*torch.eye(self.B[i].shape[0])) @ self.momentum[i], requires_grad = True))\n",
    "                    B_part_grad.append(-self.learning_rate*self.gamma*(torch.autograd.grad(H,\n",
    "                                                                                           self.B[i],\n",
    "                                                                                           torch.ones_like(H),\n",
    "                                                                                           retain_graph=True)[0]))\n",
    "                    \n",
    "                    tau_part_grad.append(-self.learning_rate*self.gamma*(torch.autograd.grad(H,\n",
    "                                                                                             self.tau[i],\n",
    "                                                                                             torch.ones_like(H),\n",
    "                                                                                             retain_graph=True)[0]))\n",
    "\n",
    "                with torch.no_grad():\n",
    "                    # Convex smoothing\n",
    "                    p.add_(-self.gamma*(self.learning_rate*H))\n",
    "                \n",
    "\n",
    "            #new_params = nn.ParameterList(new_params)\n",
    "\n",
    "            loss = self.loss_criterion(model(X), y)\n",
    "\n",
    "            # Zero gradients for optimizer parameters\n",
    "            self.zero_grad()\n",
    "\n",
    "            # Backward phase\n",
    "            loss.backward()\n",
    "\n",
    "            for i, (p, v) in enumerate(zip(model.parameters(), self.B)):\n",
    "                v.grad = B_part_grad[i] * p.grad\n",
    "                '''\n",
    "                v.grad = torch.autograd.grad(inputs = new_params[i],\n",
    "                                             outputs = v,\n",
    "                                             grad_outputs=torch.ones_like(v),\n",
    "                                             allow_unused=True)[0] @ p.grad\n",
    "                '''\n",
    "\n",
    "            for i, (p, v) in enumerate(zip(model.parameters(), self.tau)):\n",
    "                v.grad = (tau_part_grad[i] * p.grad.mean())\n",
    "            \n",
    "            # Update optimizer parameters\n",
    "            self.meta_optimizer.step()  \n",
    "\n",
    "\n",
    "            # Update momentum\n",
    "            for i, (_, p) in enumerate(model.named_parameters()):\n",
    "                self.momentum[i] = self.beta * self.momentum[i] + (1 - self.beta) * p.grad\n",
    "\n",
    "\n",
    "            train_losses.append(loss.detach().numpy())\n",
    "            \n",
    "            # Updating the learning rates\n",
    "\n",
    "            self.gamma *= 0.9\n",
    "            #self.learning_rate *= 0.9\n",
    "            \n",
    "        return train_losses"
   ]
  },
  {
   "cell_type": "code",
   "execution_count": null,
   "metadata": {},
   "outputs": [],
   "source": [
    "losses = {'Batch GD':np.zeros((100,100)),\n",
    "          'ADAM':np.zeros((100,100)),\n",
    "          'ADAGrad':np.zeros((100,100)),\n",
    "          'SCALTRA':np.zeros((100,100))}\n",
    "\n",
    "criterion = nn.MSELoss(reduction='mean')\n",
    "'''\n",
    "for i in tqdm(range(100)):\n",
    "    model = nn.Sequential(\n",
    "        nn.Linear(13, 30, bias=True),\n",
    "        nn.ReLU(),\n",
    "        nn.Linear(30, 1, bias=True)\n",
    "    )\n",
    "\n",
    "    optimizer = torch.optim.SGD(params=model.parameters(), lr=3e-5)\n",
    "    train_losses = []\n",
    "\n",
    "    for epoch in range(100):\n",
    "        # Forward pass\n",
    "        \n",
    "        outputs = model(X_train_tensor)\n",
    "        loss = criterion(outputs, y_train_tensor)\n",
    "        \n",
    "        # Backward pass and optimization\n",
    "        optimizer.zero_grad()\n",
    "        loss.backward()\n",
    "        optimizer.step()\n",
    "        \n",
    "        # Store loss value\n",
    "        train_losses.append(loss.item())\n",
    "    \n",
    "    losses['Batch GD'][i,:] = np.array(train_losses)\n",
    "\n",
    "for i in tqdm(range(100)):\n",
    "    model = nn.Sequential(\n",
    "        nn.Linear(13, 30, bias=True),\n",
    "        nn.ReLU(),\n",
    "        nn.Linear(30, 1, bias=True)\n",
    "    )\n",
    "\n",
    "    optimizer = torch.optim.Adam(params=model.parameters(), lr=1e-1)\n",
    "    train_losses = []\n",
    "\n",
    "    for epoch in range(100):\n",
    "        # Forward pass\n",
    "        \n",
    "        outputs = model(X_train_tensor)\n",
    "        loss = criterion(outputs, y_train_tensor)\n",
    "        \n",
    "        # Backward pass and optimization\n",
    "        optimizer.zero_grad()\n",
    "        loss.backward()\n",
    "        optimizer.step()\n",
    "        \n",
    "        # Store loss value\n",
    "        train_losses.append(loss.item())\n",
    "    \n",
    "    losses['ADAM'][i,:] = np.array(train_losses)\n",
    "\n",
    "for i in tqdm(range(100)):\n",
    "    model = nn.Sequential(\n",
    "        nn.Linear(13, 30, bias=True),\n",
    "        nn.ReLU(),\n",
    "        nn.Linear(30, 1, bias=True)\n",
    "    )\n",
    "\n",
    "    optimizer = torch.optim.Adagrad(params=model.parameters(), lr=1e-1)\n",
    "    train_losses = []\n",
    "\n",
    "    for epoch in range(100):\n",
    "        # Forward pass\n",
    "        \n",
    "        outputs = model(X_train_tensor)\n",
    "        loss = criterion(outputs, y_train_tensor)\n",
    "        \n",
    "        # Backward pass and optimization\n",
    "        optimizer.zero_grad()\n",
    "        loss.backward()\n",
    "        optimizer.step()\n",
    "        \n",
    "        # Store loss value\n",
    "        train_losses.append(loss.item())\n",
    "    \n",
    "    losses['ADAGrad'][i,:] = np.array(train_losses)\n",
    "'''\n",
    "for i in tqdm(range(100)):\n",
    "    model = nn.Sequential(\n",
    "        nn.Linear(13, 30, bias=True),\n",
    "        nn.ReLU(),\n",
    "        nn.Linear(30, 1, bias=True)\n",
    "    )\n",
    "\n",
    "    optimizer = SCALTRA(model, 100, criterion, 0.7, 1)\n",
    "    train_losses = optimizer.forward(model, X_train_tensor, y_train_tensor)\n",
    "    \n",
    "    losses['SCALTRA'][i,:] = np.array(train_losses)"
   ]
  },
  {
   "cell_type": "code",
   "execution_count": null,
   "metadata": {},
   "outputs": [],
   "source": [
    "for key in losses.keys():\n",
    "    mean = np.mean(losses[key], axis=0)\n",
    "    UB = mean + np.std(losses[key], axis = 0)\n",
    "    LB = mean - np.std(losses[key], axis = 0)\n",
    "    plt.plot(mean, label = key)\n",
    "    plt.fill_between(range(losses[key].shape[0]), UB, LB,alpha=0.3)\n",
    "    plt.title('Average train loss for different optimizers')\n",
    "    plt.legend()"
   ]
  },
  {
   "cell_type": "markdown",
   "metadata": {},
   "source": [
    "______________"
   ]
  },
  {
   "cell_type": "markdown",
   "metadata": {},
   "source": [
    "### SCALTRANet - DeepUnrolling SCA for neural network training"
   ]
  },
  {
   "cell_type": "markdown",
   "metadata": {},
   "source": [
    "### Dataset of synthetic models for prelearning"
   ]
  },
  {
   "cell_type": "code",
   "execution_count": 5,
   "metadata": {},
   "outputs": [],
   "source": [
    "class SyntheticModels():\n",
    "    def __init__(self, model, features_num, output_size, M, s_sigma = 0.5, eps_sigma = 0.01, size = 1000, batch_size = 256):\n",
    "\n",
    "        #self.model = model\n",
    "        self.features_num = features_num\n",
    "        self.output_size = output_size\n",
    "        self.M = M\n",
    "\n",
    "        self.size = size    # Size of the dataset\n",
    "    \n",
    "        self.s_sigma = s_sigma\n",
    "        self.eps_sigma = eps_sigma\n",
    "\n",
    "        self.batch_size = batch_size\n",
    "        self.data = {}\n",
    "\n",
    "        # Generating the dataset\n",
    "        self.set_data(model)\n",
    "\n",
    "    def set_tuple(self, model):\n",
    "        cloned_model = copy.deepcopy(model)\n",
    "\n",
    "        # Set the weights of the model\n",
    "        with torch.no_grad():\n",
    "            for p in cloned_model.parameters():\n",
    "                p.copy_(torch.randn_like(p))\n",
    "        \n",
    "        x = torch.randn((self.M,self.features_num))\n",
    "        y = cloned_model.forward(x) \n",
    "        y += torch.randn_like(y) * 1e-2\n",
    "        \n",
    "        return (cloned_model, x, y)\n",
    "    \n",
    "    def set_data(self, model):\n",
    "        for i in range(self.size):\n",
    "            self.data[i] = self.set_tuple(model)\n",
    "    \n",
    "    '''\n",
    "    def set_loader(self):\n",
    "        return Data.DataLoader(dataset = Data.TensorDataset(self.y, self.x),\n",
    "                               batch_size = self.batch_size,\n",
    "                               shuffle = True)\n",
    "    '''"
   ]
  },
  {
   "cell_type": "code",
   "execution_count": 6,
   "metadata": {},
   "outputs": [],
   "source": [
    "model = nn.Sequential(\n",
    "    nn.Linear(13, 30),\n",
    "    nn.ReLU(),\n",
    "    nn.Linear(30, 1)\n",
    ")\n",
    "\n",
    "optimizer = torch.optim.Adam(params=model.parameters(), lr=1e-1, weight_decay = 5e-4)\n",
    "criterion = nn.MSELoss()"
   ]
  },
  {
   "cell_type": "code",
   "execution_count": 7,
   "metadata": {},
   "outputs": [],
   "source": [
    "synthetic_models = SyntheticModels(model, 13, 1, 300, size = 50, batch_size = 1)"
   ]
  },
  {
   "cell_type": "markdown",
   "metadata": {},
   "source": [
    "### The unrolled architecture "
   ]
  },
  {
   "cell_type": "code",
   "execution_count": 8,
   "metadata": {},
   "outputs": [],
   "source": [
    "class SCALTRALayer(nn.Module):\n",
    "    def __init__(self, \n",
    "                 model, \n",
    "                 learning_rate = 1,\n",
    "                 tau = 100, \n",
    "                 gamma = 0.9):\n",
    "        \n",
    "        super().__init__()\n",
    "\n",
    "        # Initialization of the learnable parameters\n",
    "        #self.lambda_ = nn.Parameter(torch.ones(1)*lambda_, requires_grad = True)\n",
    "\n",
    "        self.gamma = gamma\n",
    "        self.learning_rate = learning_rate\n",
    "        torch.set_grad_enabled(True)\n",
    "        self.B = []\n",
    "        self.tau = []\n",
    "\n",
    "        self.B_part_grad = []\n",
    "        self.tau_part_grad = []\n",
    "\n",
    "        for _, p in model.named_parameters():\n",
    "            self.B.append(nn.Parameter(torch.ones(p.shape), requires_grad = True))\n",
    "            self.tau.append(nn.Parameter(torch.ones(1)*tau, requires_grad = True))\n",
    "\n",
    "        self.params = nn.ParameterList(  self.B + self.tau)\n",
    "\n",
    "    def forward(self, model, momentum):\n",
    "        self.zero_grad()\n",
    "        for i, (_, p) in enumerate(model.named_parameters()):\n",
    "\n",
    "            # Local optimization step\n",
    "            if len(p.shape) == 1:\n",
    "                H = torch.linalg.inv(torch.outer(self.B[i],self.B[i]) + self.tau[i]*torch.eye(self.B[i].shape[0])) @ momentum[i]\n",
    "                self.B[i].grad = -self.learning_rate*self.gamma*(torch.autograd.grad(H,\n",
    "                                                                                    self.B[i],\n",
    "                                                                                    torch.ones_like(H),\n",
    "                                                                                    retain_graph=True)[0])\n",
    "\n",
    "                self.tau[i].grad = -self.learning_rate*self.gamma*(torch.autograd.grad(H,\n",
    "                                                                                       self.tau[i],\n",
    "                                                                                       torch.ones_like(H),\n",
    "                                                                                       retain_graph=True)[0])\n",
    "                \n",
    "            else:\n",
    "                H = torch.linalg.inv(torch.matmul(self.B[i],torch.transpose(self.B[i],0,1)) + self.tau[i]*torch.eye(self.B[i].shape[0])) @ momentum[i]\n",
    "                self.B[i].grad = -self.learning_rate*self.gamma*(torch.autograd.grad(H,\n",
    "                                                                self.B[i],\n",
    "                                                                torch.ones_like(H),\n",
    "                                                                retain_graph=True)[0])\n",
    "\n",
    "                self.tau[i].grad = -self.learning_rate*self.gamma*(torch.autograd.grad(H,\n",
    "                                                                                       self.tau[i],\n",
    "                                                                                       torch.ones_like(H),\n",
    "                                                                                       retain_graph=True)[0])        \n",
    "            with torch.no_grad():\n",
    "                p.add_(-self.gamma*self.learning_rate*H)\n",
    "\n",
    "            \n",
    "        return model\n",
    "                "
   ]
  },
  {
   "cell_type": "code",
   "execution_count": 9,
   "metadata": {},
   "outputs": [],
   "source": [
    "class SCALTRANet(nn.Module):\n",
    "    def __init__(self, \n",
    "                 model, \n",
    "                 loss_criterion,\n",
    "                 beta = 0.1, \n",
    "                 T = 100, \n",
    "                 learning_rate = 1, \n",
    "                 tau = 500, \n",
    "                 gamma = 0.99):\n",
    "        \n",
    "        super(SCALTRANet, self).__init__()\n",
    "        \n",
    "        # Number of iterations <-> number of layers\n",
    "        #self.model = model\n",
    "        self.T = T\n",
    "\n",
    "        # Initialization of the learnable parameters\n",
    "        self.tau_0 = torch.ones(T)*tau\n",
    "        self.gamma_0 = torch.ones(T)*gamma\n",
    "\n",
    "        for i in range(self.T):\n",
    "            self.gamma_0[i] *= 0.99**i\n",
    "            \n",
    "        self.loss_criterion = loss_criterion\n",
    "\n",
    "        self.beta = beta\n",
    "        self.momentum = []\n",
    "        self.train_losses = []\n",
    "\n",
    "        for _, p in model.named_parameters():\n",
    "            self.momentum.append(torch.zeros_like(p))\n",
    "\n",
    "        # Defining the layers\n",
    "        self.SCALTRA_layers = nn.ModuleList([SCALTRALayer(model,\n",
    "                                                          learning_rate,\n",
    "                                                          self.tau_0[i], \n",
    "                                                          self.gamma_0[i]\n",
    "                                                          ) \n",
    "                                                          for i in range(self.T)])\n",
    "        \n",
    "        #self.meta_optimizer = torch.optim.Adagrad(params=self.parameters(), lr=1)\n",
    "\n",
    "    def reinitialization(self, model):\n",
    "        \n",
    "        for layer in model.modules():\n",
    "            if isinstance(layer, torch.nn.Linear):\n",
    "                torch.nn.init.xavier_uniform(layer.weight.data)\n",
    "\n",
    "        return model\n",
    "    \n",
    "    def forward(self, model, X, y):\n",
    "        M = copy.deepcopy(model)\n",
    "        M = self.reinitialization(M)\n",
    "       \n",
    "        for i in range(self.T):\n",
    "            model = copy.deepcopy(M)\n",
    "            M = copy.deepcopy(self.SCALTRA_layers[i].forward(model, self.momentum))\n",
    "                \n",
    "            loss = self.loss_criterion(M(X), y)            \n",
    "\n",
    "            # Backward phase\n",
    "            loss.backward(inputs = list(M.parameters()))\n",
    "\n",
    "            # Update momentum\n",
    "            for i, (_, p) in enumerate(M.named_parameters()):\n",
    "                self.momentum[i] = self.beta * self.momentum[i] + (1 - self.beta) * p.grad\n",
    "\n",
    "            # Update gradients\n",
    "\n",
    "            self.train_losses.append(loss.detach().numpy())\n",
    "             \n",
    "        return model    \n",
    "\n",
    "    def reset_train_loss(self):\n",
    "        self.train_losses = []   \n",
    "\n",
    "    def gradient_reset(self):\n",
    "        for i in range(self.T):\n",
    "            for w in self.SCALTRA_layers[i].parameters():\n",
    "                w.grad = None\n"
   ]
  },
  {
   "cell_type": "code",
   "execution_count": 22,
   "metadata": {},
   "outputs": [],
   "source": [
    "optimizer = SCALTRANet(synthetic_models.data[0][0], torch.nn.MSELoss(), T = 100, tau = 500)"
   ]
  },
  {
   "cell_type": "code",
   "execution_count": 11,
   "metadata": {},
   "outputs": [],
   "source": [
    "optimizer.reset_train_loss()\n",
    "m = optimizer.forward(synthetic_models.data[1][0], \n",
    "                      synthetic_models.data[1][1], \n",
    "                      synthetic_models.data[1][2])"
   ]
  },
  {
   "cell_type": "code",
   "execution_count": 12,
   "metadata": {},
   "outputs": [
    {
     "data": {
      "text/plain": [
       "[<matplotlib.lines.Line2D at 0x24a077d4bb0>]"
      ]
     },
     "execution_count": 12,
     "metadata": {},
     "output_type": "execute_result"
    },
    {
     "data": {
      "image/png": "[encoded data removed]",
      "text/plain": [
       "<Figure size 640x480 with 1 Axes>"
      ]
     },
     "metadata": {},
     "output_type": "display_data"
    }
   ],
   "source": [
    "plt.plot(optimizer.train_losses)"
   ]
  },
  {
   "cell_type": "markdown",
   "metadata": {},
   "source": [
    "### Online optimization loop for generalized L2O"
   ]
  },
  {
   "cell_type": "code",
   "execution_count": 13,
   "metadata": {},
   "outputs": [],
   "source": [
    "def modelMSEloss(model1, model2):\n",
    "    loss = 0\n",
    "    for p, p_true in zip(model1.parameters(), model2.parameters()):\n",
    "        loss += torch.linalg.norm(p - p_true)\n",
    "    return loss"
   ]
  },
  {
   "cell_type": "code",
   "execution_count": 16,
   "metadata": {},
   "outputs": [
    {
     "name": "stderr",
     "output_type": "stream",
     "text": [
      "  0%|          | 0/50 [00:00<?, ?it/s]"
     ]
    },
    {
     "name": "stderr",
     "output_type": "stream",
     "text": [
      "100%|██████████| 50/50 [03:25<00:00,  4.11s/it]\n"
     ]
    }
   ],
   "source": [
    "epochs = 50\n",
    "optimizer = SCALTRANet(synthetic_models.data[0][0], torch.nn.MSELoss(), T = 100, tau = 500)\n",
    "metaoptimizer = torch.optim.Adam(params = optimizer.parameters(), lr=1)\n",
    "losses = []\n",
    "\n",
    "for _ in tqdm(range(epochs)):\n",
    "    m = optimizer.forward(synthetic_models.data[0][0], \n",
    "                            synthetic_models.data[0][1], \n",
    "                            synthetic_models.data[0][2])\n",
    "    \n",
    "    loss = modelMSEloss(m, synthetic_models.data[0][0])\n",
    "    \n",
    "    losses.append(loss)\n",
    "\n",
    "    # Compute the gradient with respect to the weights of the model to be updated and apply them to the weights of the neural optimizer\n",
    "\n",
    "    for layer in optimizer.SCALTRA_layers:\n",
    "        for j, (w,w_) in enumerate(zip(list(m.parameters()), list(synthetic_models.data[0][0].parameters()))):\n",
    "\n",
    "            layer.B[j].grad *= 2/len(list(m.parameters())) * (w - w_)\n",
    "            layer.tau[j].grad *= 2/len(list(m.parameters())) * torch.mean(w - w_)\n",
    "    \n",
    "    metaoptimizer.step()\n",
    "\n",
    "    optimizer.reset_train_loss()\n",
    "    optimizer.gradient_reset()"
   ]
  },
  {
   "cell_type": "code",
   "execution_count": 19,
   "metadata": {},
   "outputs": [
    {
     "data": {
      "text/plain": [
       "[<matplotlib.lines.Line2D at 0x24a09bd0310>]"
      ]
     },
     "execution_count": 19,
     "metadata": {},
     "output_type": "execute_result"
    },
    {
     "data": {
      "image/png": "[encoded data removed]",
      "text/plain": [
       "<Figure size 640x480 with 1 Axes>"
      ]
     },
     "metadata": {},
     "output_type": "display_data"
    }
   ],
   "source": [
    "plt.plot([loss.detach().numpy() for loss in losses])\n"
   ]
  },
  {
   "cell_type": "code",
   "execution_count": 23,
   "metadata": {},
   "outputs": [],
   "source": [
    "optimizer.reset_train_loss()\n",
    "m = optimizer.forward(model, \n",
    "                      X_train_tensor, \n",
    "                      y_train_tensor)"
   ]
  },
  {
   "cell_type": "code",
   "execution_count": 26,
   "metadata": {},
   "outputs": [
    {
     "data": {
      "text/plain": [
       "[<matplotlib.lines.Line2D at 0x24a0a0d4910>]"
      ]
     },
     "execution_count": 26,
     "metadata": {},
     "output_type": "execute_result"
    },
    {
     "data": {
      "image/png": "[encoded data removed]",
      "text/plain": [
       "<Figure size 640x480 with 1 Axes>"
      ]
     },
     "metadata": {},
     "output_type": "display_data"
    }
   ],
   "source": [
    "plt.loglog(optimizer.train_losses)"
   ]
  },
  {
   "cell_type": "markdown",
   "metadata": {},
   "source": [
    "_________"
   ]
  }
 ],
 "metadata": {
  "kernelspec": {
   "display_name": "Python 3",
   "language": "python",
   "name": "python3"
  },
  "language_info": {
   "codemirror_mode": {
    "name": "ipython",
    "version": 3
   },
   "file_extension": ".py",
   "mimetype": "text/x-python",
   "name": "python",
   "nbconvert_exporter": "python",
   "pygments_lexer": "ipython3",
   "version": "3.10.7"
  }
 },
 "nbformat": 4,
 "nbformat_minor": 2
}
